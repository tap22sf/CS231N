{
 "cells": [
  {
   "cell_type": "markdown",
   "metadata": {},
   "source": [
    "### Download COVID Chest X-Ray and Kaggle Pneumonia challenge datasets.\n",
    "\n",
    "Using the Kaggle API to fetch the dataset; make sure you have an API key, you're enrolled in the challenge at https://www.kaggle.com/c/rsna-pneumonia-detection-challenge/data, and have already run the instructions [here](https://github.com/Kaggle/kaggle-api).\n",
    "\n",
    "Based on https://github.com/IliasPap/COVIDNet."
   ]
  },
  {
   "cell_type": "code",
   "execution_count": 5,
   "metadata": {},
   "outputs": [],
   "source": [
    "!mkdir ../datasets"
   ]
  },
  {
   "cell_type": "code",
   "execution_count": 6,
   "metadata": {},
   "outputs": [
    {
     "name": "stdout",
     "output_type": "stream",
     "text": [
      "Cloning into '../datasets/covid-chestxray-dataset'...\n",
      "remote: Enumerating objects: 8, done.\u001b[K\n",
      "remote: Counting objects: 100% (8/8), done.\u001b[K\n",
      "remote: Compressing objects: 100% (8/8), done.\u001b[K\n",
      "remote: Total 1976 (delta 1), reused 0 (delta 0), pack-reused 1968\u001b[K\n",
      "Receiving objects: 100% (1976/1976), 265.01 MiB | 77.78 MiB/s, done.\n",
      "Resolving deltas: 100% (953/953), done.\n"
     ]
    }
   ],
   "source": [
    "!git clone https://github.com/ieee8023/covid-chestxray-dataset.git ../datasets/covid-chestxray-dataset"
   ]
  },
  {
   "cell_type": "code",
   "execution_count": 10,
   "metadata": {},
   "outputs": [
    {
     "name": "stdout",
     "output_type": "stream",
     "text": [
      "Warning: Your Kaggle API key is readable by other users on this system! To fix this, you can run 'chmod 600 /home/jupyter/.kaggle/kaggle.json'\n",
      "Downloading rsna-pneumonia-detection-challenge.zip to ../datasets\n",
      "100%|██████████████████████████████████████▊| 3.65G/3.66G [00:21<00:00, 247MB/s]\n",
      "100%|███████████████████████████████████████| 3.66G/3.66G [00:22<00:00, 178MB/s]\n"
     ]
    }
   ],
   "source": [
    "!kaggle competitions download -p ../datasets/ rsna-pneumonia-detection-challenge\n",
    "!mkdir ../datasets/rsna_dataset\n",
    "!unzip -q ../datasets/rsna-pneumonia-detection-challenge.zip -d ../datasets/rsna_dataset"
   ]
  },
  {
   "cell_type": "code",
   "execution_count": 11,
   "metadata": {},
   "outputs": [
    {
     "name": "stdout",
     "output_type": "stream",
     "text": [
      "Collecting pydicom\n",
      "  Downloading pydicom-1.4.2-py2.py3-none-any.whl (35.3 MB)\n",
      "\u001b[K     |████████████████████████████████| 35.3 MB 37.1 MB/s eta 0:00:01\n",
      "\u001b[?25hInstalling collected packages: pydicom\n",
      "Successfully installed pydicom-1.4.2\n"
     ]
    }
   ],
   "source": [
    "! pip install pydicom\n",
    "import numpy as np\n",
    "import pandas as pd\n",
    "import os\n",
    "import random \n",
    "from shutil import copyfile\n",
    "import pydicom as dicom\n",
    "import cv2"
   ]
  },
  {
   "cell_type": "code",
   "execution_count": 13,
   "metadata": {},
   "outputs": [],
   "source": [
    "seed = 0\n",
    "np.random.seed(seed) # Reset the seed so all runs are the same.\n",
    "random.seed(seed)\n",
    "MAXVAL = 255  # Range [0 255]\n",
    "\n",
    "# Set up COVID chest x-ray dataset.\n",
    "root = '../datasets/covid-chestxray-dataset'\n",
    "\n",
    "savepath = root + '/data'\n",
    "if(not os.path.exists(savepath)):\n",
    "    os.makedirs(savepath)\n",
    "savepath = root + '/data/train'\n",
    "if(not os.path.exists(savepath)):\n",
    "    os.makedirs(savepath)\n",
    "savepath = root + '/data/test'\n",
    "if(not os.path.exists(savepath)):\n",
    "    os.makedirs(savepath)\n",
    "\n",
    "savepath = root + '/data'\n",
    "imgpath = root + '/images' \n",
    "csvpath = root + '/metadata.csv'\n",
    "\n",
    "# Set up RSNA Kaggle Pneumonia challenge dataset.\n",
    "kaggle_datapath = '../datasets/rsna_dataset'\n",
    "kaggle_csvname = 'stage_2_detailed_class_info.csv'\n",
    "kaggle_csvname2 = 'stage_2_train_labels.csv'\n",
    "kaggle_imgpath = 'stage_2_train_images'\n",
    "\n",
    "# Parameters for COVIDx dataset.\n",
    "train = []\n",
    "test = []\n",
    "test_count = {'normal': 0, 'pneumonia': 0, 'COVID-19': 0}\n",
    "train_count = {'normal': 0, 'pneumonia': 0, 'COVID-19': 0}\n",
    "\n",
    "mapping = dict()\n",
    "mapping['COVID-19'] = 'COVID-19'\n",
    "mapping['SARS'] = 'pneumonia'\n",
    "mapping['MERS'] = 'pneumonia'\n",
    "mapping['Streptococcus'] = 'pneumonia'\n",
    "mapping['Normal'] = 'normal'\n",
    "mapping['Lung Opacity'] = 'pneumonia'\n",
    "mapping['1'] = 'pneumonia'\n",
    "\n",
    "# Train/test split\n",
    "split = 0.1"
   ]
  },
  {
   "cell_type": "markdown",
   "metadata": {},
   "source": [
    "### Preprocess COVIDx dataset"
   ]
  },
  {
   "cell_type": "code",
   "execution_count": 14,
   "metadata": {},
   "outputs": [],
   "source": [
    "csv = pd.read_csv(csvpath, nrows=None)\n",
    "idx_pa = csv[\"view\"] == \"PA\"  # Keep only the PA view\n",
    "csv = csv[idx_pa]\n",
    "\n",
    "pneumonias = [\"COVID-19\", \"SARS\", \"MERS\", \"ARDS\", \"Streptococcus\"]\n",
    "pathologies = [\"Pneumonia\", \"Viral Pneumonia\", \"Bacterial Pneumonia\", \"No Finding\"] + pneumonias\n",
    "pathologies = sorted(pathologies)"
   ]
  },
  {
   "cell_type": "code",
   "execution_count": 15,
   "metadata": {},
   "outputs": [
    {
     "name": "stdout",
     "output_type": "stream",
     "text": [
      "Index(['patientid', 'offset', 'sex', 'age', 'finding', 'survival', 'intubated',\n",
      "       'intubation_present', 'went_icu', 'in_icu', 'needed_supplemental_O2',\n",
      "       'extubated', 'temperature', 'pO2_saturation', 'leukocyte_count',\n",
      "       'neutrophil_count', 'lymphocyte_count', 'view', 'modality', 'date',\n",
      "       'location', 'folder', 'filename', 'doi', 'url', 'license',\n",
      "       'clinical_notes', 'other_notes', 'Unnamed: 28'],\n",
      "      dtype='object')\n",
      "Data distribution from covid-chestxray-dataset:\n",
      "{'normal': 0, 'pneumonia': 21, 'COVID-19': 142}\n"
     ]
    }
   ],
   "source": [
    "# Get non-COVID19 viral, bacteria, and COVID-19 infections from covid-chestxray-dataset.\n",
    "# CSV stored as patient id, image filename and label.\n",
    "filename_label = {'normal': [], 'pneumonia': [], 'COVID-19': []}\n",
    "count = {'normal': 0, 'pneumonia': 0, 'COVID-19': 0}\n",
    "print(csv.keys())\n",
    "for index, row in csv.iterrows():\n",
    "    f = row['finding']\n",
    "    if f in mapping:\n",
    "        count[mapping[f]] += 1\n",
    "        entry = [int(row['patientid']), row['filename'], mapping[f]]\n",
    "        filename_label[mapping[f]].append(entry)\n",
    "\n",
    "print('Data distribution from covid-chestxray-dataset:')\n",
    "print(count)"
   ]
  },
  {
   "cell_type": "code",
   "execution_count": 16,
   "metadata": {},
   "outputs": [
    {
     "name": "stdout",
     "output_type": "stream",
     "text": [
      "Key:  pneumonia\n",
      "Test patients:  ['8', '31']\n",
      "Key:  COVID-19\n",
      "Test patients:  ['19', '20', '36', '42', '86']\n",
      "test count:  {'normal': 0, 'pneumonia': 5, 'COVID-19': 6}\n",
      "train count:  {'normal': 0, 'pneumonia': 16, 'COVID-19': 136}\n"
     ]
    }
   ],
   "source": [
    "# Add covid-chestxray-dataset into COVIDx dataset. Since covid-chestxray-dataset doesn't have a\n",
    "# test dataset, split into train/test by patientid.\n",
    "#\n",
    "# For COVIDx:\n",
    "# Patient 8 is used as non-COVID19 viral test\n",
    "# Patient 31 is used as bacterial test\n",
    "# Patients 19, 20, 36, 42, 86 are used as COVID-19 viral test\n",
    "\n",
    "for key in filename_label.keys():\n",
    "    arr = np.array(filename_label[key])\n",
    "    if arr.size == 0:\n",
    "        continue\n",
    "    # split by patients\n",
    "    # num_diff_patients = len(np.unique(arr[:,0]))\n",
    "    # num_test = max(1, round(split*num_diff_patients))\n",
    "    # select num_test number of random patients\n",
    "    if key == 'pneumonia':\n",
    "        test_patients = ['8', '31']\n",
    "    elif key == 'COVID-19':\n",
    "        test_patients = ['19', '20', '36', '42', '86'] # random.sample(list(arr[:,0]), num_test)\n",
    "    else: \n",
    "        test_patients = []\n",
    "    print('Key: ', key)\n",
    "    print('Test patients: ', test_patients)\n",
    "    # go through all the patients\n",
    "    for patient in arr:\n",
    "        if patient[0] in test_patients:\n",
    "            copyfile(os.path.join(imgpath, patient[1]), os.path.join(savepath, 'test', patient[1]))\n",
    "            test.append(patient)\n",
    "            test_count[patient[2]] += 1\n",
    "        else:\n",
    "            copyfile(os.path.join(imgpath, patient[1]), os.path.join(savepath, 'train', patient[1]))\n",
    "            train.append(patient)\n",
    "            train_count[patient[2]] += 1\n",
    "\n",
    "print('test count: ', test_count)\n",
    "print('train count: ', train_count)"
   ]
  },
  {
   "cell_type": "markdown",
   "metadata": {},
   "source": [
    "### Preprocess Kaggle dataset"
   ]
  },
  {
   "cell_type": "code",
   "execution_count": 17,
   "metadata": {},
   "outputs": [
    {
     "name": "stdout",
     "output_type": "stream",
     "text": [
      "../datasets/rsna_dataset\n",
      "test count:  {'normal': 885, 'pneumonia': 1058, 'COVID-19': 6}\n",
      "train count:  {'normal': 7966, 'pneumonia': 8518, 'COVID-19': 136}\n"
     ]
    }
   ],
   "source": [
    "# Add normal and rest of pneumonia cases from RSNA dataset.\n",
    "\n",
    "kaggle_datapath = '../datasets/rsna_dataset'\n",
    "\n",
    "print(kaggle_datapath)\n",
    "csv_normal = pd.read_csv(os.path.join(kaggle_datapath, kaggle_csvname), nrows=None)\n",
    "csv_pneu = pd.read_csv(os.path.join(kaggle_datapath, kaggle_csvname2), nrows=None)\n",
    "patients = {'normal': [], 'pneumonia': []}\n",
    "\n",
    "for index, row in csv_normal.iterrows():\n",
    "    if row['class'] == 'Normal':\n",
    "        patients['normal'].append(row['patientId'])\n",
    "\n",
    "for index, row in csv_pneu.iterrows():\n",
    "    if int(row['Target']) == 1:\n",
    "        patients['pneumonia'].append(row['patientId'])\n",
    "\n",
    "for key in patients.keys():\n",
    "    arr = np.array(patients[key])\n",
    "    if arr.size == 0:\n",
    "        continue\n",
    "    # split by patients \n",
    "    # num_diff_patients = len(np.unique(arr))\n",
    "    # num_test = max(1, round(split*num_diff_patients))\n",
    "    test_patients = np.load('rsna_test_patients_{}.npy'.format(key))\n",
    "    for patient in arr:\n",
    "        ds = dicom.dcmread(os.path.join(kaggle_datapath, kaggle_imgpath, patient + '.dcm'))\n",
    "        pixel_array_numpy = ds.pixel_array\n",
    "        imgname = patient + '.png'\n",
    "        if patient in test_patients:\n",
    "            cv2.imwrite(os.path.join(savepath, 'test', imgname), pixel_array_numpy)\n",
    "            test.append([patient, imgname, key])\n",
    "            test_count[key] += 1\n",
    "        else:\n",
    "            cv2.imwrite(os.path.join(savepath, 'train', imgname), pixel_array_numpy)\n",
    "            train.append([patient, imgname, key])\n",
    "            train_count[key] += 1\n",
    "\n",
    "print('test count: ', test_count)\n",
    "print('train count: ', train_count)"
   ]
  },
  {
   "cell_type": "markdown",
   "metadata": {},
   "source": [
    "### Data split"
   ]
  },
  {
   "cell_type": "code",
   "execution_count": 18,
   "metadata": {},
   "outputs": [
    {
     "name": "stdout",
     "output_type": "stream",
     "text": [
      "Train count:  {'normal': 7966, 'pneumonia': 8518, 'COVID-19': 136}\n",
      "Test count:  {'normal': 885, 'pneumonia': 1058, 'COVID-19': 6}\n",
      "Total length of train:  16620\n",
      "Total length of test:  1949\n"
     ]
    }
   ],
   "source": [
    "print('Train count: ', train_count)\n",
    "print('Test count: ', test_count)\n",
    "print('Total length of train: ', len(train))\n",
    "print('Total length of test: ', len(test))"
   ]
  },
  {
   "cell_type": "code",
   "execution_count": 20,
   "metadata": {},
   "outputs": [],
   "source": [
    "# Export to train and test csv.\n",
    "# Columns: [patientid, filename, label]\n",
    "train_file = open(\"train_split.txt\",\"w\") \n",
    "for sample in train:\n",
    "    info = str(sample[0]) + ' ' + sample[1] + ' ' + sample[2] + '\\n'\n",
    "    train_file.write(info)\n",
    "\n",
    "train_file.close()\n",
    "\n",
    "test_file = open(\"test_split.txt\", \"w\")\n",
    "for sample in test:\n",
    "    info = str(sample[0]) + ' ' + sample[1] + ' ' + sample[2] + '\\n'\n",
    "    test_file.write(info)\n",
    "\n",
    "test_file.close()"
   ]
  },
  {
   "cell_type": "code",
   "execution_count": null,
   "metadata": {},
   "outputs": [],
   "source": []
  }
 ],
 "metadata": {
  "environment": {
   "name": "pytorch-gpu.1-4.m46",
   "type": "gcloud",
   "uri": "gcr.io/deeplearning-platform-release/pytorch-gpu.1-4:m46"
  },
  "kernelspec": {
   "display_name": "Python 3",
   "language": "python",
   "name": "python3"
  },
  "language_info": {
   "codemirror_mode": {
    "name": "ipython",
    "version": 3
   },
   "file_extension": ".py",
   "mimetype": "text/x-python",
   "name": "python",
   "nbconvert_exporter": "python",
   "pygments_lexer": "ipython3",
   "version": "3.7.6"
  }
 },
 "nbformat": 4,
 "nbformat_minor": 4
}
